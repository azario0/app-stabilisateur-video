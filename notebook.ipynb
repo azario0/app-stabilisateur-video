{
 "cells": [
  {
   "cell_type": "markdown",
   "metadata": {},
   "source": [
    "# Stabiliseur "
   ]
  },
  {
   "cell_type": "code",
   "execution_count": 11,
   "metadata": {},
   "outputs": [
    {
     "name": "stdout",
     "output_type": "stream",
     "text": [
      "Video stabilization complete!\n"
     ]
    }
   ],
   "source": [
    "import cv2\n",
    "from vidstab import VidStab\n",
    "\n",
    "def stabilize_video(input_path, output_path):\n",
    "    # Initialize video stabilizer\n",
    "    stabilizer = VidStab()\n",
    "    \n",
    "    # Open the input video\n",
    "    vid = cv2.VideoCapture(input_path)\n",
    "    \n",
    "    # Get video properties\n",
    "    width = int(vid.get(cv2.CAP_PROP_FRAME_WIDTH))\n",
    "    height = int(vid.get(cv2.CAP_PROP_FRAME_HEIGHT))\n",
    "    fps = int(vid.get(cv2.CAP_PROP_FPS))\n",
    "    \n",
    "    # Create VideoWriter object\n",
    "    out = cv2.VideoWriter(output_path, cv2.VideoWriter_fourcc(*'mp4v'), fps, (width, height))\n",
    "    \n",
    "    while True:\n",
    "        # Read a frame from the input video\n",
    "        ret, frame = vid.read()\n",
    "        \n",
    "        if not ret:\n",
    "            break\n",
    "        \n",
    "        # Stabilize the frame\n",
    "        stabilized_frame = stabilizer.stabilize_frame(input_frame=frame, border_type='black')\n",
    "        \n",
    "        # Write the stabilized frame to the output video\n",
    "        out.write(stabilized_frame)\n",
    "    \n",
    "    # Release video objects\n",
    "    vid.release()\n",
    "    out.release()\n",
    "    cv2.destroyAllWindows()\n",
    "    \n",
    "    print(\"Video stabilization complete!\")\n",
    "\n",
    "# Example usage\n",
    "input_video = 'input_video.mp4'\n",
    "output_video = 'stabilized_video_V1.mp4'\n",
    "\n",
    "stabilize_video(input_video, output_video)\n",
    "\n"
   ]
  },
  {
   "cell_type": "markdown",
   "metadata": {},
   "source": [
    "# Stabiliseur avec editing"
   ]
  },
  {
   "cell_type": "code",
   "execution_count": 12,
   "metadata": {},
   "outputs": [
    {
     "name": "stdout",
     "output_type": "stream",
     "text": [
      "Video stabilization complete! New dimensions: 350x629\n"
     ]
    }
   ],
   "source": [
    "import cv2\n",
    "import numpy as np\n",
    "from vidstab import VidStab\n",
    "\n",
    "def stabilize_video(input_path, output_path):\n",
    "    # Initialize video stabilizer\n",
    "    stabilizer = VidStab()\n",
    "    \n",
    "    # Open the input video\n",
    "    vid = cv2.VideoCapture(input_path)\n",
    "    \n",
    "    # Get video properties\n",
    "    width = int(vid.get(cv2.CAP_PROP_FRAME_WIDTH))\n",
    "    height = int(vid.get(cv2.CAP_PROP_FRAME_HEIGHT))\n",
    "    fps = int(vid.get(cv2.CAP_PROP_FPS))\n",
    "    \n",
    "    # Stabilize the entire video first to calculate the crop region\n",
    "    stabilized_frames = []\n",
    "    while True:\n",
    "        ret, frame = vid.read()\n",
    "        if not ret:\n",
    "            break\n",
    "        stabilized_frame = stabilizer.stabilize_frame(input_frame=frame, border_type='black')\n",
    "        stabilized_frames.append(stabilized_frame)\n",
    "    \n",
    "    # Calculate the maximum movement in all directions\n",
    "    max_left = max_right = max_top = max_bottom = 0\n",
    "    for frame in stabilized_frames:\n",
    "        non_black = np.where(frame != 0)\n",
    "        if len(non_black[0]) > 0 and len(non_black[1]) > 0:\n",
    "            top, bottom = non_black[0].min(), non_black[0].max()\n",
    "            left, right = non_black[1].min(), non_black[1].max()\n",
    "            max_top = max(max_top, top)\n",
    "            max_bottom = min(max_bottom, bottom) if max_bottom != 0 else bottom\n",
    "            max_left = max(max_left, left)\n",
    "            max_right = min(max_right, right) if max_right != 0 else right\n",
    "    \n",
    "    # Calculate new dimensions\n",
    "    new_height = max_bottom - max_top\n",
    "    new_width = max_right - max_left\n",
    "    \n",
    "    # Ensure new dimensions are positive\n",
    "    if new_height <= 0 or new_width <= 0:\n",
    "        print(\"Error: Stabilization resulted in invalid dimensions. Using original dimensions.\")\n",
    "        new_height, new_width = height, width\n",
    "        max_top, max_bottom, max_left, max_right = 0, height, 0, width\n",
    "    \n",
    "    # Create VideoWriter object with new dimensions\n",
    "    out = cv2.VideoWriter(output_path, cv2.VideoWriter_fourcc(*'mp4v'), fps, (new_width, new_height))\n",
    "    \n",
    "    # Process and write the stabilized frames\n",
    "    for frame in stabilized_frames:\n",
    "        cropped_frame = frame[max_top:max_bottom, max_left:max_right]\n",
    "        # Resize if necessary\n",
    "        if cropped_frame.shape[:2] != (new_height, new_width):\n",
    "            cropped_frame = cv2.resize(cropped_frame, (new_width, new_height))\n",
    "        out.write(cropped_frame)\n",
    "    \n",
    "    # Release video objects\n",
    "    vid.release()\n",
    "    out.release()\n",
    "    cv2.destroyAllWindows()\n",
    "    \n",
    "    print(f\"Video stabilization complete! New dimensions: {new_width}x{new_height}\")\n",
    "\n",
    "# Example usage\n",
    "input_video = 'input_video.mp4'\n",
    "output_video = 'stabilized_video_V2.mp4'\n",
    "\n",
    "stabilize_video(input_video, output_video)\n"
   ]
  },
  {
   "cell_type": "code",
   "execution_count": null,
   "metadata": {},
   "outputs": [],
   "source": []
  }
 ],
 "metadata": {
  "kernelspec": {
   "display_name": "Python 3",
   "language": "python",
   "name": "python3"
  },
  "language_info": {
   "codemirror_mode": {
    "name": "ipython",
    "version": 3
   },
   "file_extension": ".py",
   "mimetype": "text/x-python",
   "name": "python",
   "nbconvert_exporter": "python",
   "pygments_lexer": "ipython3",
   "version": "3.10.12"
  }
 },
 "nbformat": 4,
 "nbformat_minor": 2
}
